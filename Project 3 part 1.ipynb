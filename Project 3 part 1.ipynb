{
 "cells": [
  {
   "cell_type": "markdown",
   "id": "f6b4fe36",
   "metadata": {},
   "source": [
    "# Project 3 Part 1\n"
   ]
  },
  {
   "cell_type": "markdown",
   "id": "4567d724",
   "metadata": {},
   "source": [
    "## Import"
   ]
  },
  {
   "cell_type": "code",
   "execution_count": 1,
   "id": "5d8a7de1",
   "metadata": {},
   "outputs": [],
   "source": [
    "import pandas as pd\n",
    "import seaborn as sns\n",
    "import matplotlib.pyplot as plt"
   ]
  },
  {
   "cell_type": "code",
   "execution_count": 2,
   "id": "21889239",
   "metadata": {},
   "outputs": [
    {
     "name": "stderr",
     "output_type": "stream",
     "text": [
      "\n",
      "KeyboardInterrupt\n",
      "\n"
     ]
    }
   ],
   "source": [
    "akas_url = \"https://datasets.imdbws.com/title.akas.tsv.gz\"\n",
    "akas = pd.read_csv(akas_url, sep='\\t', low_memory=False)"
   ]
  },
  {
   "cell_type": "code",
   "execution_count": null,
   "id": "0d4ea9a0",
   "metadata": {},
   "outputs": [],
   "source": [
    "basics_url = \"https://datasets.imdbws.com/title.basics.tsv.gz\"\n",
    "basics = pd.read_csv(basics_url, sep='\\t', low_memory=False)"
   ]
  },
  {
   "cell_type": "code",
   "execution_count": null,
   "id": "f340951e",
   "metadata": {},
   "outputs": [],
   "source": [
    "ratings_url = \"https://datasets.imdbws.com/title.ratings.tsv.gz\"\n",
    "ratings = pd.read_csv(ratings_url, sep = \"\\t\", low_memory = False)"
   ]
  },
  {
   "cell_type": "markdown",
   "id": "dcc1c3a6",
   "metadata": {},
   "source": [
    "## Data"
   ]
  },
  {
   "cell_type": "code",
   "execution_count": null,
   "id": "bd058bb9",
   "metadata": {},
   "outputs": [],
   "source": [
    "akas.info()\n",
    "akas.head()"
   ]
  },
  {
   "cell_type": "code",
   "execution_count": null,
   "id": "75d56d45",
   "metadata": {},
   "outputs": [],
   "source": [
    "basics.info()\n",
    "basics.head()"
   ]
  },
  {
   "cell_type": "code",
   "execution_count": null,
   "id": "42efb756",
   "metadata": {},
   "outputs": [],
   "source": [
    "ratings.info()\n",
    "ratings.head()"
   ]
  },
  {
   "cell_type": "markdown",
   "id": "031f547b",
   "metadata": {},
   "source": [
    "## Cleaning"
   ]
  },
  {
   "cell_type": "markdown",
   "id": "9a8d96da",
   "metadata": {},
   "source": [
    "### Title Basics"
   ]
  },
  {
   "cell_type": "code",
   "execution_count": null,
   "id": "a0f94c45",
   "metadata": {},
   "outputs": [],
   "source": [
    "basics.replace({'\\\\N':np.nan})\n",
    "basics[\"runtimeMinutes\"] = basics[\"runtimeMinutes\"].dropna()\n",
    "basics[\"genre\"] = basics[\"genre\"].dropna()\n",
    "basics[\"startYear\"] = basics.loc[(basics['startYear'] >= '2000') & (basics['startYear'] <'2021')]"
   ]
  },
  {
   "cell_type": "code",
   "execution_count": null,
   "id": "8f42383b",
   "metadata": {},
   "outputs": [],
   "source": [
    "is_documentary = basics['genres'].str.contains('documentary',case=False)\n",
    "basics = basics[~is_documentary]"
   ]
  },
  {
   "cell_type": "code",
   "execution_count": null,
   "id": "68dc303c",
   "metadata": {},
   "outputs": [],
   "source": [
    "keepers = basics['tconst'].isin(akas['titleId'])\n",
    "basics = basics[keepers]\n",
    "basics"
   ]
  },
  {
   "cell_type": "code",
   "execution_count": null,
   "id": "40157fa2",
   "metadata": {},
   "outputs": [],
   "source": [
    "basics.info()"
   ]
  },
  {
   "cell_type": "markdown",
   "id": "e6aece04",
   "metadata": {},
   "source": [
    "### Title AKA"
   ]
  },
  {
   "cell_type": "code",
   "execution_count": null,
   "id": "ce797936",
   "metadata": {},
   "outputs": [],
   "source": [
    "akas.replace({'\\\\N':np.nan})\n",
    "akas = akas[keepers] #?"
   ]
  },
  {
   "cell_type": "code",
   "execution_count": null,
   "id": "688b1abe",
   "metadata": {},
   "outputs": [],
   "source": [
    "akas.info()"
   ]
  },
  {
   "cell_type": "markdown",
   "id": "7c759079",
   "metadata": {},
   "source": [
    "### Title Ratings"
   ]
  },
  {
   "cell_type": "code",
   "execution_count": null,
   "id": "424dda8b",
   "metadata": {},
   "outputs": [],
   "source": [
    "ratings.replace({'\\\\N':np.nan})\n",
    "\n",
    "keeper = ratings['tconst'].isin(akas['titleId'])\n",
    "ratings = ratings[keeper]\n",
    "ratings"
   ]
  },
  {
   "cell_type": "code",
   "execution_count": null,
   "id": "297953c2",
   "metadata": {},
   "outputs": [],
   "source": [
    "ratings.info()"
   ]
  },
  {
   "cell_type": "markdown",
   "id": "dffb0667",
   "metadata": {},
   "source": [
    "## Creating a Folder"
   ]
  },
  {
   "cell_type": "code",
   "execution_count": null,
   "id": "1459d247",
   "metadata": {},
   "outputs": [],
   "source": [
    "import os\n",
    "os.makedirs('Data/',exist_ok=True) \n",
    "# Confirm folder created\n",
    "os.listdir(\"Data/\")\n"
   ]
  },
  {
   "cell_type": "markdown",
   "id": "2f670e0c",
   "metadata": {},
   "source": [
    "## Converting to CSV"
   ]
  },
  {
   "cell_type": "markdown",
   "id": "521db60d",
   "metadata": {},
   "source": [
    "### Title Basics"
   ]
  },
  {
   "cell_type": "code",
   "execution_count": null,
   "id": "f2ae8cf0",
   "metadata": {},
   "outputs": [],
   "source": [
    "basics.to_csv(\"Data/title_basics.csv.gz\",compression='gzip',index=False)"
   ]
  },
  {
   "cell_type": "markdown",
   "id": "34da320e",
   "metadata": {},
   "source": [
    "### Title Aka"
   ]
  },
  {
   "cell_type": "code",
   "execution_count": null,
   "id": "7f8afc01",
   "metadata": {},
   "outputs": [],
   "source": [
    "akas.to_csv(\"Data/title_akas.csv.gz\",compression='gzip',index=False)"
   ]
  },
  {
   "cell_type": "markdown",
   "id": "08dbb0f0",
   "metadata": {},
   "source": [
    "### Title Ratings"
   ]
  },
  {
   "cell_type": "code",
   "execution_count": null,
   "id": "53dc884f",
   "metadata": {},
   "outputs": [],
   "source": [
    "ratings.to_csv(\"Data/title_ratings.csv.gz\",compression='gzip',index=False)"
   ]
  },
  {
   "cell_type": "markdown",
   "id": "2c93c5f4",
   "metadata": {},
   "source": [
    "# Cite"
   ]
  },
  {
   "cell_type": "markdown",
   "id": "2f8d82a6",
   "metadata": {},
   "source": [
    " - This data is from https://www.imdb.com/interfaces/ (IMBD)"
   ]
  }
 ],
 "metadata": {
  "kernelspec": {
   "display_name": "Python (dojo-env)",
   "language": "python",
   "name": "dojo-env"
  },
  "language_info": {
   "codemirror_mode": {
    "name": "ipython",
    "version": 3
   },
   "file_extension": ".py",
   "mimetype": "text/x-python",
   "name": "python",
   "nbconvert_exporter": "python",
   "pygments_lexer": "ipython3",
   "version": "3.9.15"
  },
  "toc": {
   "base_numbering": 1,
   "nav_menu": {},
   "number_sections": true,
   "sideBar": true,
   "skip_h1_title": false,
   "title_cell": "Table of Contents",
   "title_sidebar": "Contents",
   "toc_cell": false,
   "toc_position": {},
   "toc_section_display": true,
   "toc_window_display": true
  }
 },
 "nbformat": 4,
 "nbformat_minor": 5
}

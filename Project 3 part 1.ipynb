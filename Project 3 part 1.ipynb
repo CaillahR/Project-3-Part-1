{
 "cells": [
  {
   "cell_type": "markdown",
   "id": "f6b4fe36",
   "metadata": {},
   "source": [
    "# Project 3 Part 1\n"
   ]
  },
  {
   "cell_type": "markdown",
   "id": "4567d724",
   "metadata": {},
   "source": [
    "## Import"
   ]
  },
  {
   "cell_type": "code",
   "execution_count": 1,
   "id": "5d8a7de1",
   "metadata": {},
   "outputs": [],
   "source": [
    "import pandas as pd\n",
    "import numpy as np\n",
    "import seaborn as sns\n",
    "import matplotlib.pyplot as plt"
   ]
  },
  {
   "cell_type": "code",
   "execution_count": 2,
   "id": "21889239",
   "metadata": {},
   "outputs": [],
   "source": [
    "akas_url = \"https://datasets.imdbws.com/title.akas.tsv.gz\"\n",
    "chunk_num = 1\n",
    "akas = pd.read_csv(akas_url, sep='\\t', low_memory=False, chunksize = 100000)"
   ]
  },
  {
   "cell_type": "code",
   "execution_count": 3,
   "id": "0d4ea9a0",
   "metadata": {},
   "outputs": [],
   "source": [
    "basics_url = \"https://datasets.imdbws.com/title.basics.tsv.gz\"\n",
    "chunk_num = 1\n",
    "basics = pd.read_csv(basics_url, sep='\\t', low_memory=False, chunksize = 100000)"
   ]
  },
  {
   "cell_type": "code",
   "execution_count": 4,
   "id": "9f9b0fdb",
   "metadata": {},
   "outputs": [],
   "source": [
    "ratings_url = \"https://datasets.imdbws.com/title.ratings.tsv.gz\"\n",
    "chunk_num = 1\n",
    "ratings = pd.read_csv(ratings_url, sep = \"\\t\", low_memory = False, chunksize = 100000)"
   ]
  },
  {
   "cell_type": "markdown",
   "id": "031f547b",
   "metadata": {},
   "source": [
    "## Cleaning & Chunking"
   ]
  },
  {
   "cell_type": "code",
   "execution_count": 6,
   "id": "53adc125",
   "metadata": {},
   "outputs": [
    {
     "ename": "KeyError",
     "evalue": "'tconst'",
     "output_type": "error",
     "traceback": [
      "\u001b[1;31m---------------------------------------------------------------------------\u001b[0m",
      "\u001b[1;31mKeyError\u001b[0m                                  Traceback (most recent call last)",
      "File \u001b[1;32m~\\anaconda3\\envs\\dojo-env\\lib\\site-packages\\pandas\\core\\indexes\\base.py:3803\u001b[0m, in \u001b[0;36mIndex.get_loc\u001b[1;34m(self, key, method, tolerance)\u001b[0m\n\u001b[0;32m   3802\u001b[0m \u001b[38;5;28;01mtry\u001b[39;00m:\n\u001b[1;32m-> 3803\u001b[0m     \u001b[38;5;28;01mreturn\u001b[39;00m \u001b[38;5;28;43mself\u001b[39;49m\u001b[38;5;241;43m.\u001b[39;49m\u001b[43m_engine\u001b[49m\u001b[38;5;241;43m.\u001b[39;49m\u001b[43mget_loc\u001b[49m\u001b[43m(\u001b[49m\u001b[43mcasted_key\u001b[49m\u001b[43m)\u001b[49m\n\u001b[0;32m   3804\u001b[0m \u001b[38;5;28;01mexcept\u001b[39;00m \u001b[38;5;167;01mKeyError\u001b[39;00m \u001b[38;5;28;01mas\u001b[39;00m err:\n",
      "File \u001b[1;32m~\\anaconda3\\envs\\dojo-env\\lib\\site-packages\\pandas\\_libs\\index.pyx:138\u001b[0m, in \u001b[0;36mpandas._libs.index.IndexEngine.get_loc\u001b[1;34m()\u001b[0m\n",
      "File \u001b[1;32m~\\anaconda3\\envs\\dojo-env\\lib\\site-packages\\pandas\\_libs\\index.pyx:165\u001b[0m, in \u001b[0;36mpandas._libs.index.IndexEngine.get_loc\u001b[1;34m()\u001b[0m\n",
      "File \u001b[1;32mpandas\\_libs\\hashtable_class_helper.pxi:5745\u001b[0m, in \u001b[0;36mpandas._libs.hashtable.PyObjectHashTable.get_item\u001b[1;34m()\u001b[0m\n",
      "File \u001b[1;32mpandas\\_libs\\hashtable_class_helper.pxi:5753\u001b[0m, in \u001b[0;36mpandas._libs.hashtable.PyObjectHashTable.get_item\u001b[1;34m()\u001b[0m\n",
      "\u001b[1;31mKeyError\u001b[0m: 'tconst'",
      "\nThe above exception was the direct cause of the following exception:\n",
      "\u001b[1;31mKeyError\u001b[0m                                  Traceback (most recent call last)",
      "Cell \u001b[1;32mIn [6], line 7\u001b[0m\n\u001b[0;32m      4\u001b[0m temp_df1\u001b[38;5;241m.\u001b[39mreplace({\u001b[38;5;124m'\u001b[39m\u001b[38;5;130;01m\\\\\u001b[39;00m\u001b[38;5;124mN\u001b[39m\u001b[38;5;124m'\u001b[39m:np\u001b[38;5;241m.\u001b[39mnan},inplace\u001b[38;5;241m=\u001b[39m\u001b[38;5;28;01mTrue\u001b[39;00m)\n\u001b[0;32m      6\u001b[0m \u001b[38;5;66;03m# Filter the basics table down to only include the US by using the filter akas dataframe\u001b[39;00m\n\u001b[1;32m----> 7\u001b[0m temp \u001b[38;5;241m=\u001b[39m \u001b[43mtemp_df1\u001b[49m\u001b[43m[\u001b[49m\u001b[38;5;124;43m'\u001b[39;49m\u001b[38;5;124;43mtconst\u001b[39;49m\u001b[38;5;124;43m'\u001b[39;49m\u001b[43m]\u001b[49m\u001b[38;5;241m.\u001b[39misin(akas[\u001b[38;5;124m'\u001b[39m\u001b[38;5;124mtitleId\u001b[39m\u001b[38;5;124m'\u001b[39m])\n\u001b[0;32m      9\u001b[0m temp_df1 \u001b[38;5;241m=\u001b[39m temp_df1[temp]\n\u001b[0;32m     11\u001b[0m \u001b[38;5;66;03m### Saving chunk to disk\u001b[39;00m\n",
      "File \u001b[1;32m~\\anaconda3\\envs\\dojo-env\\lib\\site-packages\\pandas\\core\\frame.py:3805\u001b[0m, in \u001b[0;36mDataFrame.__getitem__\u001b[1;34m(self, key)\u001b[0m\n\u001b[0;32m   3803\u001b[0m \u001b[38;5;28;01mif\u001b[39;00m \u001b[38;5;28mself\u001b[39m\u001b[38;5;241m.\u001b[39mcolumns\u001b[38;5;241m.\u001b[39mnlevels \u001b[38;5;241m>\u001b[39m \u001b[38;5;241m1\u001b[39m:\n\u001b[0;32m   3804\u001b[0m     \u001b[38;5;28;01mreturn\u001b[39;00m \u001b[38;5;28mself\u001b[39m\u001b[38;5;241m.\u001b[39m_getitem_multilevel(key)\n\u001b[1;32m-> 3805\u001b[0m indexer \u001b[38;5;241m=\u001b[39m \u001b[38;5;28;43mself\u001b[39;49m\u001b[38;5;241;43m.\u001b[39;49m\u001b[43mcolumns\u001b[49m\u001b[38;5;241;43m.\u001b[39;49m\u001b[43mget_loc\u001b[49m\u001b[43m(\u001b[49m\u001b[43mkey\u001b[49m\u001b[43m)\u001b[49m\n\u001b[0;32m   3806\u001b[0m \u001b[38;5;28;01mif\u001b[39;00m is_integer(indexer):\n\u001b[0;32m   3807\u001b[0m     indexer \u001b[38;5;241m=\u001b[39m [indexer]\n",
      "File \u001b[1;32m~\\anaconda3\\envs\\dojo-env\\lib\\site-packages\\pandas\\core\\indexes\\base.py:3805\u001b[0m, in \u001b[0;36mIndex.get_loc\u001b[1;34m(self, key, method, tolerance)\u001b[0m\n\u001b[0;32m   3803\u001b[0m     \u001b[38;5;28;01mreturn\u001b[39;00m \u001b[38;5;28mself\u001b[39m\u001b[38;5;241m.\u001b[39m_engine\u001b[38;5;241m.\u001b[39mget_loc(casted_key)\n\u001b[0;32m   3804\u001b[0m \u001b[38;5;28;01mexcept\u001b[39;00m \u001b[38;5;167;01mKeyError\u001b[39;00m \u001b[38;5;28;01mas\u001b[39;00m err:\n\u001b[1;32m-> 3805\u001b[0m     \u001b[38;5;28;01mraise\u001b[39;00m \u001b[38;5;167;01mKeyError\u001b[39;00m(key) \u001b[38;5;28;01mfrom\u001b[39;00m \u001b[38;5;21;01merr\u001b[39;00m\n\u001b[0;32m   3806\u001b[0m \u001b[38;5;28;01mexcept\u001b[39;00m \u001b[38;5;167;01mTypeError\u001b[39;00m:\n\u001b[0;32m   3807\u001b[0m     \u001b[38;5;66;03m# If we have a listlike key, _check_indexing_error will raise\u001b[39;00m\n\u001b[0;32m   3808\u001b[0m     \u001b[38;5;66;03m#  InvalidIndexError. Otherwise we fall through and re-raise\u001b[39;00m\n\u001b[0;32m   3809\u001b[0m     \u001b[38;5;66;03m#  the TypeError.\u001b[39;00m\n\u001b[0;32m   3810\u001b[0m     \u001b[38;5;28mself\u001b[39m\u001b[38;5;241m.\u001b[39m_check_indexing_error(key)\n",
      "\u001b[1;31mKeyError\u001b[0m: 'tconst'"
     ]
    }
   ],
   "source": [
    "for temp_df1 in akas:\n",
    "        #### COMBINED WORKFLOW FROM ABOVE\n",
    "    ## Replace \"\\N\" with np.nan\n",
    "    temp_df1.replace({'\\\\N':np.nan},inplace=True)\n",
    "    \n",
    "    # Filter the basics table down to only include the US by using the filter akas dataframe\n",
    "    temp = temp_df1['tconst'].isin(akas['titleId'])\n",
    "    \n",
    "    temp_df1 = temp_df1[temp]\n",
    "     \n",
    "    ### Saving chunk to disk\n",
    "    fname1= f'Data/title_akas_chunk_{chunk_num:03d}.csv.gz'\n",
    "    temp_df1.to_csv(fname1, compression='gzip')\n",
    "    print(f\"- Saved {fname1}\")\n",
    "    \n",
    "    ## increment chunk_num    \n",
    "    chunk_num+=1\n",
    "## Closing the reader now that we are done looping through the file\n",
    "akas.close()\n",
    "\n"
   ]
  },
  {
   "cell_type": "code",
   "execution_count": null,
   "id": "6e5af7af",
   "metadata": {},
   "outputs": [],
   "source": [
    "temp_df1.duplicated().sum()"
   ]
  },
  {
   "cell_type": "code",
   "execution_count": null,
   "id": "79dab3d1",
   "metadata": {},
   "outputs": [],
   "source": [
    "for temp_df2 in basics:\n",
    "        #### COMBINED WORKFLOW FROM ABOVE\n",
    "    ## Replace \"\\N\" with np.nan\n",
    "    temp_df2.replace({'\\\\N':np.nan},inplace=True)\n",
    "    ## Eliminate movies that are null for runtimeMinute, genres, and startYear\n",
    "    temp_df2 = temp_df2.dropna(subset=['runtimeMinutes','genres','startYear']) \n",
    "        \n",
    "    ## NOTE: THERE ARE ADDITIONAL REQUIRED FILTERING STEPS FOR THE PROJECT NOT SHOWN HERE\n",
    "    ### Convert startyear to numeric for slicing\n",
    "    ## convert numeric features\n",
    "    temp_df2['startYear'] = temp_df2['startYear'].astype(float)\n",
    "    ## keep startYear 2000-2022\n",
    "    temp_df2 = temp_df2[(temp_df2['startYear']>=2000)&(temp_df2['startYear']<2022)]\n",
    "     \n",
    "    ### Saving chunk to disk\n",
    "    fname2= f'Data/title_basics_chunk_{chunk_num:03d}.csv.gz'\n",
    "    temp_df2.to_csv(fname2, compression='gzip')\n",
    "    print(f\"- Saved {fname2}\")\n",
    "    \n",
    "    ## increment chunk_num    \n",
    "    chunk_num+=1\n",
    "## Closing the reader now that we are done looping through the file\n",
    "basics.close()"
   ]
  },
  {
   "cell_type": "code",
   "execution_count": null,
   "id": "74c40102",
   "metadata": {},
   "outputs": [],
   "source": [
    "for temp_df3 in ratings:\n",
    "        #### COMBINED WORKFLOW FROM ABOVE\n",
    "    ## Replace \"\\N\" with np.nan\n",
    "    temp_df3.replace({'\\\\N':np.nan},inplace=True)\n",
    "    \n",
    "     # Filter the basics table down to only include the US by using the filter akas dataframe\n",
    "    temp_df3 = temp_df3['tconst'].isin(akas['titleId'])\n",
    "    \n",
    "    temp_df3 = temp_df3[keepers]\n",
    "     \n",
    "    ### Saving chunk to disk\n",
    "    fname3= f'Data/title_ratings_chunk_{chunk_num:03d}.csv.gz'\n",
    "    temp_df3.to_csv(fname3, compression='gzip')\n",
    "    print(f\"- Saved {fname3}\")\n",
    "    \n",
    "    ## increment chunk_num    \n",
    "    chunk_num+=1\n",
    "## Closing the reader now that we are done looping through the file\n",
    "ratings.close()\n",
    "\n"
   ]
  },
  {
   "cell_type": "code",
   "execution_count": null,
   "id": "c950db51",
   "metadata": {},
   "outputs": [],
   "source": [
    "import glob\n",
    "q = \"Data/title_basics_chunk*.csv.gz\"\n",
    "chunked_files1 = sorted(glob.glob(q))\n",
    "# Showing the first 5\n",
    "chunked_files1[:5]"
   ]
  },
  {
   "cell_type": "code",
   "execution_count": null,
   "id": "53acfcc2",
   "metadata": {},
   "outputs": [],
   "source": [
    "q = \"Data/title_akas_chunk*.csv.gz\"\n",
    "chunked_files2 = sorted(glob.glob(q))\n",
    "# Showing the first 5\n",
    "chunked_files2[:5]"
   ]
  },
  {
   "cell_type": "code",
   "execution_count": null,
   "id": "f803bf27",
   "metadata": {},
   "outputs": [],
   "source": [
    "q = \"Data/title_ratings_chunk*.csv.gz\"\n",
    "chunked_files3 = sorted(glob.glob(q))\n",
    "# Showing the first 5\n",
    "chunked_files3[:5]"
   ]
  },
  {
   "cell_type": "code",
   "execution_count": null,
   "id": "99acec75",
   "metadata": {},
   "outputs": [],
   "source": [
    "## Loading all files as df and appending to a list\n",
    "df_list1 = []\n",
    "for file1 in chunked_files1:\n",
    "    temp_df1 = pd.read_csv(file1, index_col=0)\n",
    "    df_list1.append(temp_df1)\n",
    "    ## Concatenating the list of dfs into 1 combined\n",
    "akas_combined = pd.concat(df_list1)\n",
    "akas_combined"
   ]
  },
  {
   "cell_type": "code",
   "execution_count": null,
   "id": "2b26719e",
   "metadata": {},
   "outputs": [],
   "source": [
    "\n",
    "df_list2 = []\n",
    "for file2 in chunked_files2:\n",
    "    temp_df2 = pd.read_csv(file2, index_col=0, low_memory = False)\n",
    "    df_list2.append(temp_df2)\n",
    "    ## Concatenating the list of dfs into 1 combined\n",
    "basics_combined = pd.concat(df_list2)\n",
    "basics_combined"
   ]
  },
  {
   "cell_type": "code",
   "execution_count": null,
   "id": "154de1d3",
   "metadata": {},
   "outputs": [],
   "source": [
    "\n",
    "df_list3 = []\n",
    "for file3 in chunked_files3:\n",
    "    temp_df3 = pd.read_csv(file3, index_col=0)\n",
    "    df_list3.append(temp_df3)\n",
    "    ## Concatenating the list of dfs into 1 combined\n",
    "ratings_combined = pd.concat(df_list3)\n",
    "ratings_combined"
   ]
  },
  {
   "cell_type": "code",
   "execution_count": null,
   "id": "b6fb14a7",
   "metadata": {},
   "outputs": [],
   "source": [
    "## Saving the final combined dataframe\n",
    "final_fname1 ='Data/title_akas_combined.csv.gz'\n",
    "akas_combined.to_csv(final_fname1, compression='gzip', index=False)"
   ]
  },
  {
   "cell_type": "code",
   "execution_count": null,
   "id": "a2cda8b4",
   "metadata": {},
   "outputs": [],
   "source": [
    "## Saving the final combined dataframe\n",
    "final_fname2 ='Data/title_basics_combined.csv.gz'\n",
    "basics_combined.to_csv(final_fname2, compression='gzip', index=False)"
   ]
  },
  {
   "cell_type": "code",
   "execution_count": null,
   "id": "89a65727",
   "metadata": {},
   "outputs": [],
   "source": [
    "## Saving the final combined dataframe\n",
    "final_fname3 ='Data/title_ratings_combined.csv.gz'\n",
    "ratings_combined.to_csv(final_fname3, compression='gzip', index=False)"
   ]
  },
  {
   "cell_type": "markdown",
   "id": "dffb0667",
   "metadata": {},
   "source": [
    "## Creating a Folder"
   ]
  },
  {
   "cell_type": "code",
   "execution_count": null,
   "id": "1459d247",
   "metadata": {},
   "outputs": [],
   "source": [
    "import os\n",
    "os.makedirs('Data/',exist_ok=True) \n",
    "# Confirm folder created\n",
    "os.listdir(\"Data/\")\n"
   ]
  },
  {
   "cell_type": "markdown",
   "id": "2c93c5f4",
   "metadata": {},
   "source": [
    "# Cite"
   ]
  },
  {
   "cell_type": "markdown",
   "id": "2f8d82a6",
   "metadata": {},
   "source": [
    " - This data is from https://www.imdb.com/interfaces/ (IMBD)"
   ]
  }
 ],
 "metadata": {
  "kernelspec": {
   "display_name": "Python (dojo-env)",
   "language": "python",
   "name": "dojo-env"
  },
  "language_info": {
   "codemirror_mode": {
    "name": "ipython",
    "version": 3
   },
   "file_extension": ".py",
   "mimetype": "text/x-python",
   "name": "python",
   "nbconvert_exporter": "python",
   "pygments_lexer": "ipython3",
   "version": "3.9.15"
  },
  "toc": {
   "base_numbering": 1,
   "nav_menu": {},
   "number_sections": true,
   "sideBar": true,
   "skip_h1_title": false,
   "title_cell": "Table of Contents",
   "title_sidebar": "Contents",
   "toc_cell": false,
   "toc_position": {},
   "toc_section_display": true,
   "toc_window_display": true
  }
 },
 "nbformat": 4,
 "nbformat_minor": 5
}

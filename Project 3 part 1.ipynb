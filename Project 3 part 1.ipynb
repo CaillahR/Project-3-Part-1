{
 "cells": [
  {
   "cell_type": "markdown",
   "id": "f6b4fe36",
   "metadata": {},
   "source": [
    "# Project 3 Part 1\n"
   ]
  },
  {
   "cell_type": "markdown",
   "id": "4567d724",
   "metadata": {},
   "source": [
    "## Import"
   ]
  },
  {
   "cell_type": "code",
   "execution_count": 1,
   "id": "5d8a7de1",
   "metadata": {},
   "outputs": [],
   "source": [
    "import pandas as pd\n",
    "import numpy as np\n",
    "import seaborn as sns\n",
    "import matplotlib.pyplot as plt"
   ]
  },
  {
   "cell_type": "code",
   "execution_count": 2,
   "id": "21889239",
   "metadata": {},
   "outputs": [],
   "source": [
    "akas_url = \"https://datasets.imdbws.com/title.akas.tsv.gz\"\n",
    "chunk_num = 1\n",
    "akas = pd.read_csv(akas_url, sep='\\t', low_memory=False, chunksize = 100000)"
   ]
  },
  {
   "cell_type": "code",
   "execution_count": null,
   "id": "0d4ea9a0",
   "metadata": {},
   "outputs": [],
   "source": [
    "basics_url = \"https://datasets.imdbws.com/title.basics.tsv.gz\"\n",
    "chunk_num = 1\n",
    "basics = pd.read_csv(basics_url, sep='\\t', low_memory=False, chunksize = 100000)"
   ]
  },
  {
   "cell_type": "code",
   "execution_count": null,
   "id": "9f9b0fdb",
   "metadata": {},
   "outputs": [],
   "source": [
    "ratings_url = \"https://datasets.imdbws.com/title.ratings.tsv.gz\"\n",
    "chunk_num = 1\n",
    "ratings = pd.read_csv(ratings_url, sep = \"\\t\", low_memory = False, chunksize = 100000)"
   ]
  },
  {
   "cell_type": "markdown",
   "id": "031f547b",
   "metadata": {},
   "source": [
    "## Cleaning & Chunking"
   ]
  },
  {
   "cell_type": "code",
   "execution_count": null,
   "id": "53adc125",
   "metadata": {},
   "outputs": [],
   "source": [
    "for temp_df1 in akas:\n",
    "        #### COMBINED WORKFLOW FROM ABOVE\n",
    "    ## Replace \"\\N\" with np.nan\n",
    "    temp_df1.replace({'\\\\N':np.nan},inplace=True)\n",
    "     \n",
    "    ### Saving chunk to disk\n",
    "    fname1= f'Data/title_akas_chunk_{chunk_num:03d}.csv.gz'\n",
    "    temp_df1.to_csv(fname1, compression='gzip')\n",
    "    print(f\"- Saved {fname1}\")\n",
    "    \n",
    "    ## increment chunk_num    \n",
    "    chunk_num+=1\n",
    "## Closing the reader now that we are done looping through the file\n",
    "akas.close()\n",
    "\n"
   ]
  },
  {
   "cell_type": "code",
   "execution_count": null,
   "id": "79dab3d1",
   "metadata": {},
   "outputs": [],
   "source": [
    "for temp_df2 in basics:\n",
    "        #### COMBINED WORKFLOW FROM ABOVE\n",
    "    ## Replace \"\\N\" with np.nan\n",
    "    temp_df2.replace({'\\\\N':np.nan},inplace=True)\n",
    "    ## Eliminate movies that are null for runtimeMinute, genres, and startYear\n",
    "    temp_df2 = temp_df2.dropna(subset=['runtimeMinutes','genres','startYear']) \n",
    "        \n",
    "    ## NOTE: THERE ARE ADDITIONAL REQUIRED FILTERING STEPS FOR THE PROJECT NOT SHOWN HERE\n",
    "    ### Convert startyear to numeric for slicing\n",
    "    ## convert numeric features\n",
    "    temp_df2['startYear'] = temp_df2['startYear'].astype(float)\n",
    "    ## keep startYear 2000-2022\n",
    "    temp_df2 = temp_df2[(temp_df2['startYear']>=2000)&(temp_df2['startYear']<2022)]\n",
    "     \n",
    "    ### Saving chunk to disk\n",
    "    fname2= f'Data/title_basics_chunk_{chunk_num:03d}.csv.gz'\n",
    "    temp_df2.to_csv(fname2, compression='gzip')\n",
    "    print(f\"- Saved {fname2}\")\n",
    "    \n",
    "    ## increment chunk_num    \n",
    "    chunk_num+=1\n",
    "## Closing the reader now that we are done looping through the file\n",
    "basics.close()"
   ]
  },
  {
   "cell_type": "code",
   "execution_count": null,
   "id": "74c40102",
   "metadata": {},
   "outputs": [],
   "source": [
    "for temp_df3 in ratings:\n",
    "        #### COMBINED WORKFLOW FROM ABOVE\n",
    "    ## Replace \"\\N\" with np.nan\n",
    "    temp_df3.replace({'\\\\N':np.nan},inplace=True)\n",
    "     \n",
    "    ### Saving chunk to disk\n",
    "    fname3= f'Data/title_ratings_chunk_{chunk_num:03d}.csv.gz'\n",
    "    temp_df3.to_csv(fname3, compression='gzip')\n",
    "    print(f\"- Saved {fname3}\")\n",
    "    \n",
    "    ## increment chunk_num    \n",
    "    chunk_num+=1\n",
    "## Closing the reader now that we are done looping through the file\n",
    "ratings.close()\n",
    "\n"
   ]
  },
  {
   "cell_type": "code",
   "execution_count": null,
   "id": "c950db51",
   "metadata": {},
   "outputs": [],
   "source": [
    "import glob\n",
    "q = \"Data/title_basics_chunk*.csv.gz\"\n",
    "chunked_files1 = sorted(glob.glob(q))\n",
    "# Showing the first 5\n",
    "chunked_files1[:5]"
   ]
  },
  {
   "cell_type": "code",
   "execution_count": null,
   "id": "53acfcc2",
   "metadata": {},
   "outputs": [],
   "source": [
    "q = \"Data/title_akas_chunk*.csv.gz\"\n",
    "chunked_files2 = sorted(glob.glob(q))\n",
    "# Showing the first 5\n",
    "chunked_files2[:5]"
   ]
  },
  {
   "cell_type": "code",
   "execution_count": null,
   "id": "f803bf27",
   "metadata": {},
   "outputs": [],
   "source": [
    "q = \"Data/title_ratings_chunk*.csv.gz\"\n",
    "chunked_files3 = sorted(glob.glob(q))\n",
    "# Showing the first 5\n",
    "chunked_files3[:5]"
   ]
  },
  {
   "cell_type": "code",
   "execution_count": null,
   "id": "99acec75",
   "metadata": {},
   "outputs": [],
   "source": [
    "## Loading all files as df and appending to a list\n",
    "df_list1 = []\n",
    "for file1 in chunked_files1:\n",
    "    temp_df1 = pd.read_csv(file1, index_col=0)\n",
    "    df_list1.append(temp_df1)\n",
    "    ## Concatenating the list of dfs into 1 combined\n",
    "akas_combined = pd.concat(df_list1)\n",
    "akas_combined"
   ]
  },
  {
   "cell_type": "code",
   "execution_count": null,
   "id": "2b26719e",
   "metadata": {},
   "outputs": [],
   "source": [
    "\n",
    "df_list2 = []\n",
    "for file2 in chunked_files2:\n",
    "    temp_df2 = pd.read_csv(file2, index_col=0, low_memory = False)\n",
    "    df_list2.append(temp_df2)\n",
    "    ## Concatenating the list of dfs into 1 combined\n",
    "basics_combined = pd.concat(df_list2)\n",
    "basics_combined"
   ]
  },
  {
   "cell_type": "code",
   "execution_count": null,
   "id": "154de1d3",
   "metadata": {},
   "outputs": [],
   "source": [
    "\n",
    "df_list3 = []\n",
    "for file3 in chunked_files3:\n",
    "    temp_df3 = pd.read_csv(file3, index_col=0)\n",
    "    df_list3.append(temp_df3)\n",
    "    ## Concatenating the list of dfs into 1 combined\n",
    "ratings_combined = pd.concat(df_list3)\n",
    "ratings_combined"
   ]
  },
  {
   "cell_type": "code",
   "execution_count": null,
   "id": "b6fb14a7",
   "metadata": {},
   "outputs": [],
   "source": [
    "## Saving the final combined dataframe\n",
    "final_fname1 ='Data/title_akas_combined.csv.gz'\n",
    "akas_combined.to_csv(final_fname1, compression='gzip', index=False)"
   ]
  },
  {
   "cell_type": "code",
   "execution_count": null,
   "id": "a2cda8b4",
   "metadata": {},
   "outputs": [],
   "source": [
    "## Saving the final combined dataframe\n",
    "final_fname2 ='Data/title_basics_combined.csv.gz'\n",
    "basics_combined.to_csv(final_fname2, compression='gzip', index=False)"
   ]
  },
  {
   "cell_type": "code",
   "execution_count": null,
   "id": "89a65727",
   "metadata": {},
   "outputs": [],
   "source": [
    "## Saving the final combined dataframe\n",
    "final_fname3 ='Data/title_ratings_combined.csv.gz'\n",
    "ratings_combined.to_csv(final_fname3, compression='gzip', index=False)"
   ]
  },
  {
   "cell_type": "markdown",
   "id": "dffb0667",
   "metadata": {},
   "source": [
    "## Creating a Folder"
   ]
  },
  {
   "cell_type": "code",
   "execution_count": null,
   "id": "1459d247",
   "metadata": {},
   "outputs": [],
   "source": [
    "import os\n",
    "os.makedirs('Data/',exist_ok=True) \n",
    "# Confirm folder created\n",
    "os.listdir(\"Data/\")\n"
   ]
  },
  {
   "cell_type": "markdown",
   "id": "2c93c5f4",
   "metadata": {},
   "source": [
    "# Cite"
   ]
  },
  {
   "cell_type": "markdown",
   "id": "2f8d82a6",
   "metadata": {},
   "source": [
    " - This data is from https://www.imdb.com/interfaces/ (IMBD)"
   ]
  }
 ],
 "metadata": {
  "kernelspec": {
   "display_name": "Python (dojo-env)",
   "language": "python",
   "name": "dojo-env"
  },
  "language_info": {
   "codemirror_mode": {
    "name": "ipython",
    "version": 3
   },
   "file_extension": ".py",
   "mimetype": "text/x-python",
   "name": "python",
   "nbconvert_exporter": "python",
   "pygments_lexer": "ipython3",
   "version": "3.9.15"
  },
  "toc": {
   "base_numbering": 1,
   "nav_menu": {},
   "number_sections": true,
   "sideBar": true,
   "skip_h1_title": false,
   "title_cell": "Table of Contents",
   "title_sidebar": "Contents",
   "toc_cell": false,
   "toc_position": {},
   "toc_section_display": true,
   "toc_window_display": true
  }
 },
 "nbformat": 4,
 "nbformat_minor": 5
}

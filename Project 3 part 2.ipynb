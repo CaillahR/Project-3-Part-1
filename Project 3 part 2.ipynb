{
 "cells": [
  {
   "cell_type": "code",
   "execution_count": 1,
   "id": "9e751878",
   "metadata": {},
   "outputs": [],
   "source": [
    "import numpy as np\n",
    "import pandas as pd\n",
    "from tqdm.notebook import tqdm_notebook"
   ]
  },
  {
   "cell_type": "code",
   "execution_count": 2,
   "id": "31e2f609",
   "metadata": {},
   "outputs": [
    {
     "data": {
      "text/plain": [
       "['.ipynb_checkpoints',\n",
       " 'final_tmdb_data_2000.csv.gz',\n",
       " 'final_tmdb_data_2001.csv.gz',\n",
       " 'title.akas.tsv.gz',\n",
       " 'title.basics.tsv.gz',\n",
       " 'title.ratings.tsv.gz',\n",
       " 'title_akas.csv.gz',\n",
       " 'title_basics.csv.gz',\n",
       " 'title_ratings.csv.gz',\n",
       " 'tmdb_api_results_2000.json',\n",
       " 'tmdb_api_results_2001.json']"
      ]
     },
     "execution_count": 2,
     "metadata": {},
     "output_type": "execute_result"
    }
   ],
   "source": [
    "import os, time,json\n",
    "import tmdbsimple as tmdb \n",
    "FOLDER = \"Data/\"\n",
    "os.makedirs(FOLDER, exist_ok=True)\n",
    "os.listdir(FOLDER)\n"
   ]
  },
  {
   "cell_type": "code",
   "execution_count": 3,
   "id": "3c9c0346",
   "metadata": {},
   "outputs": [
    {
     "data": {
      "text/plain": [
       "dict_keys(['client-id', 'api-key'])"
      ]
     },
     "execution_count": 3,
     "metadata": {},
     "output_type": "execute_result"
    }
   ],
   "source": [
    "with open('/Users/caill/.secret/tmdb_api.json', 'r') as f:\n",
    "    login = json.load(f)\n",
    "## Display the keys of the loaded dict\n",
    "login.keys()\n",
    "\n"
   ]
  },
  {
   "cell_type": "code",
   "execution_count": 4,
   "id": "1712b560",
   "metadata": {},
   "outputs": [],
   "source": [
    "tmdb.API_KEY =  login['api-key']"
   ]
  },
  {
   "cell_type": "code",
   "execution_count": 5,
   "id": "d750b28b",
   "metadata": {},
   "outputs": [],
   "source": [
    "def write_json(new_data, filename): \n",
    "    \"\"\"Appends a list of records (new_data) to a json file (filename). \n",
    "    Adapted from: https://www.geeksforgeeks.org/append-to-json-file-using-python/\"\"\"  \n",
    "    \n",
    "    with open(filename,'r+') as file:\n",
    "        # First we load existing data into a dict.\n",
    "        file_data = json.load(file)\n",
    "        ## Choose extend or append\n",
    "        if (type(new_data) == list) & (type(file_data) == list):\n",
    "            file_data.extend(new_data)\n",
    "        else:\n",
    "             file_data.append(new_data)\n",
    "        # Sets file's current position at offset.\n",
    "        file.seek(0)\n",
    "        # convert back to json.\n",
    "        json.dump(file_data, file)\n"
   ]
  },
  {
   "cell_type": "code",
   "execution_count": 6,
   "id": "78131a43",
   "metadata": {},
   "outputs": [],
   "source": [
    "def get_movie_with_rating(movie_id):\n",
    "    \"\"\"Adapted from source = https://github.com/celiao/tmbdsimple\"\"\"\n",
    "    #Get the movie object for the current ID\n",
    "    movie = tmdb.Movies(movie_id)\n",
    "    \n",
    "    #Saving the .info .releases dictionaries\n",
    "    info = movie.info()\n",
    "    \n",
    "    releases = movie.releases()\n",
    "    #Looping through countries in releases\n",
    "    for c in releases[\"countries\"]:\n",
    "        #if the country abbreviation == US\n",
    "        if c['iso_3166_1' ] =='US':\n",
    "            ## save a \"certification\" key in the info dict with the certification\n",
    "            info['certification'] = c['certification']\n",
    "    return info"
   ]
  },
  {
   "cell_type": "code",
   "execution_count": 7,
   "id": "3bbc7b06",
   "metadata": {},
   "outputs": [
    {
     "data": {
      "text/plain": [
       "{'adult': False,\n",
       " 'backdrop_path': '/9BBTo63ANSmhC4e6r62OJFuK2GL.jpg',\n",
       " 'belongs_to_collection': {'id': 86311,\n",
       "  'name': 'The Avengers Collection',\n",
       "  'poster_path': '/yFSIUVTCvgYrpalUktulvk3Gi5Y.jpg',\n",
       "  'backdrop_path': '/zuW6fOiusv4X9nnW3paHGfXcSll.jpg'},\n",
       " 'budget': 220000000,\n",
       " 'genres': [{'id': 878, 'name': 'Science Fiction'},\n",
       "  {'id': 28, 'name': 'Action'},\n",
       "  {'id': 12, 'name': 'Adventure'}],\n",
       " 'homepage': 'https://www.marvel.com/movies/the-avengers',\n",
       " 'id': 24428,\n",
       " 'imdb_id': 'tt0848228',\n",
       " 'original_language': 'en',\n",
       " 'original_title': 'The Avengers',\n",
       " 'overview': 'When an unexpected enemy emerges and threatens global safety and security, Nick Fury, director of the international peacekeeping agency known as S.H.I.E.L.D., finds himself in need of a team to pull the world back from the brink of disaster. Spanning the globe, a daring recruitment effort begins!',\n",
       " 'popularity': 135.735,\n",
       " 'poster_path': '/RYMX2wcKCBAr24UyPD7xwmjaTn.jpg',\n",
       " 'production_companies': [{'id': 420,\n",
       "   'logo_path': '/hUzeosd33nzE5MCNsZxCGEKTXaQ.png',\n",
       "   'name': 'Marvel Studios',\n",
       "   'origin_country': 'US'}],\n",
       " 'production_countries': [{'iso_3166_1': 'US',\n",
       "   'name': 'United States of America'}],\n",
       " 'release_date': '2012-04-25',\n",
       " 'revenue': 1518815515,\n",
       " 'runtime': 143,\n",
       " 'spoken_languages': [{'english_name': 'English',\n",
       "   'iso_639_1': 'en',\n",
       "   'name': 'English'},\n",
       "  {'english_name': 'Hindi', 'iso_639_1': 'hi', 'name': 'हिन्दी'},\n",
       "  {'english_name': 'Russian', 'iso_639_1': 'ru', 'name': 'Pусский'}],\n",
       " 'status': 'Released',\n",
       " 'tagline': 'Some assembly required.',\n",
       " 'title': 'The Avengers',\n",
       " 'video': False,\n",
       " 'vote_average': 7.708,\n",
       " 'vote_count': 28735,\n",
       " 'certification': 'PG-13'}"
      ]
     },
     "execution_count": 7,
     "metadata": {},
     "output_type": "execute_result"
    }
   ],
   "source": [
    "test = get_movie_with_rating(\"tt0848228\") # movie id: tt0848228 (\"The Avengers\")\n",
    "test"
   ]
  },
  {
   "cell_type": "code",
   "execution_count": 8,
   "id": "be845d9f",
   "metadata": {},
   "outputs": [
    {
     "data": {
      "text/plain": [
       "{'adult': False,\n",
       " 'backdrop_path': '/qom1SZSENdmHFNZBXbtJAU0WTlC.jpg',\n",
       " 'belongs_to_collection': None,\n",
       " 'budget': 29000000,\n",
       " 'genres': [{'id': 10749, 'name': 'Romance'}, {'id': 18, 'name': 'Drama'}],\n",
       " 'homepage': 'http://www.newline.com/properties/notebookthe.html',\n",
       " 'id': 11036,\n",
       " 'imdb_id': 'tt0332280',\n",
       " 'original_language': 'en',\n",
       " 'original_title': 'The Notebook',\n",
       " 'overview': \"An epic love story centered around an older man who reads aloud to a woman with Alzheimer's. From a faded notebook, the old man's words bring to life the story about a couple who is separated by World War II, and is then passionately reunited, seven years later, after they have taken different paths.\",\n",
       " 'popularity': 62.31,\n",
       " 'poster_path': '/rNzQyW4f8B8cQeg7Dgj3n6eT5k9.jpg',\n",
       " 'production_companies': [{'id': 12,\n",
       "   'logo_path': '/5ThIuO93vsk47oexKTSdfKEr7EC.png',\n",
       "   'name': 'New Line Cinema',\n",
       "   'origin_country': 'US'},\n",
       "  {'id': 1565, 'logo_path': None, 'name': 'Avery Pix', 'origin_country': 'US'},\n",
       "  {'id': 2605,\n",
       "   'logo_path': None,\n",
       "   'name': 'Gran Via Productions',\n",
       "   'origin_country': 'US'}],\n",
       " 'production_countries': [{'iso_3166_1': 'US',\n",
       "   'name': 'United States of America'}],\n",
       " 'release_date': '2004-06-25',\n",
       " 'revenue': 115603229,\n",
       " 'runtime': 123,\n",
       " 'spoken_languages': [{'english_name': 'English',\n",
       "   'iso_639_1': 'en',\n",
       "   'name': 'English'}],\n",
       " 'status': 'Released',\n",
       " 'tagline': 'Behind every great love is a great story.',\n",
       " 'title': 'The Notebook',\n",
       " 'video': False,\n",
       " 'vote_average': 7.879,\n",
       " 'vote_count': 10380,\n",
       " 'certification': 'PG-13'}"
      ]
     },
     "execution_count": 8,
     "metadata": {},
     "output_type": "execute_result"
    }
   ],
   "source": [
    "test2 = get_movie_with_rating(\"tt0332280\") # movie id: tt0332280 (\"The Notebook\")\n",
    "test2"
   ]
  },
  {
   "cell_type": "code",
   "execution_count": 9,
   "id": "5d894452",
   "metadata": {},
   "outputs": [
    {
     "name": "stdout",
     "output_type": "stream",
     "text": [
      "<class 'pandas.core.frame.DataFrame'>\n",
      "RangeIndex: 81624 entries, 0 to 81623\n",
      "Data columns (total 9 columns):\n",
      " #   Column          Non-Null Count  Dtype  \n",
      "---  ------          --------------  -----  \n",
      " 0   tconst          81624 non-null  object \n",
      " 1   titleType       81624 non-null  object \n",
      " 2   primaryTitle    81624 non-null  object \n",
      " 3   originalTitle   81624 non-null  object \n",
      " 4   isAdult         81624 non-null  int64  \n",
      " 5   startYear       81624 non-null  float64\n",
      " 6   endYear         0 non-null      float64\n",
      " 7   runtimeMinutes  81624 non-null  int64  \n",
      " 8   genres          81624 non-null  object \n",
      "dtypes: float64(2), int64(2), object(5)\n",
      "memory usage: 5.6+ MB\n"
     ]
    },
    {
     "data": {
      "text/html": [
       "<div>\n",
       "<style scoped>\n",
       "    .dataframe tbody tr th:only-of-type {\n",
       "        vertical-align: middle;\n",
       "    }\n",
       "\n",
       "    .dataframe tbody tr th {\n",
       "        vertical-align: top;\n",
       "    }\n",
       "\n",
       "    .dataframe thead th {\n",
       "        text-align: right;\n",
       "    }\n",
       "</style>\n",
       "<table border=\"1\" class=\"dataframe\">\n",
       "  <thead>\n",
       "    <tr style=\"text-align: right;\">\n",
       "      <th></th>\n",
       "      <th>tconst</th>\n",
       "      <th>titleType</th>\n",
       "      <th>primaryTitle</th>\n",
       "      <th>originalTitle</th>\n",
       "      <th>isAdult</th>\n",
       "      <th>startYear</th>\n",
       "      <th>endYear</th>\n",
       "      <th>runtimeMinutes</th>\n",
       "      <th>genres</th>\n",
       "    </tr>\n",
       "  </thead>\n",
       "  <tbody>\n",
       "    <tr>\n",
       "      <th>0</th>\n",
       "      <td>tt0035423</td>\n",
       "      <td>movie</td>\n",
       "      <td>Kate &amp; Leopold</td>\n",
       "      <td>Kate &amp; Leopold</td>\n",
       "      <td>0</td>\n",
       "      <td>2001.0</td>\n",
       "      <td>NaN</td>\n",
       "      <td>118</td>\n",
       "      <td>Comedy,Fantasy,Romance</td>\n",
       "    </tr>\n",
       "    <tr>\n",
       "      <th>1</th>\n",
       "      <td>tt0062336</td>\n",
       "      <td>movie</td>\n",
       "      <td>The Tango of the Widower and Its Distorting Mi...</td>\n",
       "      <td>El tango del viudo y su espejo deformante</td>\n",
       "      <td>0</td>\n",
       "      <td>2020.0</td>\n",
       "      <td>NaN</td>\n",
       "      <td>70</td>\n",
       "      <td>Drama</td>\n",
       "    </tr>\n",
       "    <tr>\n",
       "      <th>2</th>\n",
       "      <td>tt0069049</td>\n",
       "      <td>movie</td>\n",
       "      <td>The Other Side of the Wind</td>\n",
       "      <td>The Other Side of the Wind</td>\n",
       "      <td>0</td>\n",
       "      <td>2018.0</td>\n",
       "      <td>NaN</td>\n",
       "      <td>122</td>\n",
       "      <td>Drama</td>\n",
       "    </tr>\n",
       "    <tr>\n",
       "      <th>3</th>\n",
       "      <td>tt0088751</td>\n",
       "      <td>movie</td>\n",
       "      <td>The Naked Monster</td>\n",
       "      <td>The Naked Monster</td>\n",
       "      <td>0</td>\n",
       "      <td>2005.0</td>\n",
       "      <td>NaN</td>\n",
       "      <td>100</td>\n",
       "      <td>Comedy,Horror,Sci-Fi</td>\n",
       "    </tr>\n",
       "    <tr>\n",
       "      <th>4</th>\n",
       "      <td>tt0096056</td>\n",
       "      <td>movie</td>\n",
       "      <td>Crime and Punishment</td>\n",
       "      <td>Crime and Punishment</td>\n",
       "      <td>0</td>\n",
       "      <td>2002.0</td>\n",
       "      <td>NaN</td>\n",
       "      <td>126</td>\n",
       "      <td>Drama</td>\n",
       "    </tr>\n",
       "  </tbody>\n",
       "</table>\n",
       "</div>"
      ],
      "text/plain": [
       "      tconst titleType                                       primaryTitle  \\\n",
       "0  tt0035423     movie                                     Kate & Leopold   \n",
       "1  tt0062336     movie  The Tango of the Widower and Its Distorting Mi...   \n",
       "2  tt0069049     movie                         The Other Side of the Wind   \n",
       "3  tt0088751     movie                                  The Naked Monster   \n",
       "4  tt0096056     movie                               Crime and Punishment   \n",
       "\n",
       "                               originalTitle  isAdult  startYear  endYear  \\\n",
       "0                             Kate & Leopold        0     2001.0      NaN   \n",
       "1  El tango del viudo y su espejo deformante        0     2020.0      NaN   \n",
       "2                 The Other Side of the Wind        0     2018.0      NaN   \n",
       "3                          The Naked Monster        0     2005.0      NaN   \n",
       "4                       Crime and Punishment        0     2002.0      NaN   \n",
       "\n",
       "   runtimeMinutes                  genres  \n",
       "0             118  Comedy,Fantasy,Romance  \n",
       "1              70                   Drama  \n",
       "2             122                   Drama  \n",
       "3             100    Comedy,Horror,Sci-Fi  \n",
       "4             126                   Drama  "
      ]
     },
     "execution_count": 9,
     "metadata": {},
     "output_type": "execute_result"
    }
   ],
   "source": [
    "# Load in the dataframe from project part 1 as basics:\n",
    "basics = pd.read_csv('data/title_basics.csv.gz')\n",
    "basics.info()\n",
    "basics.head()"
   ]
  },
  {
   "cell_type": "code",
   "execution_count": 10,
   "id": "92081a50",
   "metadata": {},
   "outputs": [],
   "source": [
    "# Filter years\n",
    "YEARS_TO_GET = [2000,2001]"
   ]
  },
  {
   "cell_type": "code",
   "execution_count": 11,
   "id": "92a7f99a",
   "metadata": {},
   "outputs": [],
   "source": [
    "errors = [ ]"
   ]
  },
  {
   "cell_type": "code",
   "execution_count": 12,
   "id": "c0e814ce",
   "metadata": {},
   "outputs": [
    {
     "data": {
      "application/vnd.jupyter.widget-view+json": {
       "model_id": "fc5d9c1f080e4306b753deb24e6c120b",
       "version_major": 2,
       "version_minor": 0
      },
      "text/plain": [
       "YEARS:   0%|          | 0/2 [00:00<?, ?it/s]"
      ]
     },
     "metadata": {},
     "output_type": "display_data"
    }
   ],
   "source": [
    "# Start of OUTER loop\n",
    "for YEAR in tqdm_notebook(YEARS_TO_GET, desc='YEARS', position=0):\n",
    "    \n",
    "    #Defining the JSON file to store results for year\n",
    "    JSON_FILE = f'{FOLDER}tmdb_api_results_{YEAR}.json'\n",
    "    \n",
    "    # Check if file exists\n",
    "    file_exists = os.path.isfile(JSON_FILE)\n",
    "    \n",
    "    # If it does not exist: create it\n",
    "    if file_exists == False:\n",
    "        # save an empty dict with just \"imdb_id\" to the new json file.\n",
    "        with open(JSON_FILE,'w') as f:\n",
    "            json.dump([{'imdb_id':0}],f)\n",
    "            \n",
    "        #Saving new year as the current df\n",
    "        df = basics.loc[basics['startYear']==YEAR].copy()\n",
    "            \n",
    "        # saving movie ids to list\n",
    "        movie_ids = df['tconst'].copy()\n",
    "            \n",
    "        # Load existing data from json into a dataframe called \"previous_df\"\n",
    "        previous_df = pd.read_json(JSON_FILE)\n",
    "            \n",
    "        # filter out any ids that are already in the JSON_FILE\n",
    "        movie_ids_to_get = movie_ids[~movie_ids.isin(previous_df['imdb_id'])]\n",
    "            \n",
    "\n",
    "        #Get index and movie id from list\n",
    "        # INNER Loop\n",
    "        for movie_id in tqdm_notebook(movie_ids_to_get,\n",
    "                                          desc=f'Movies from {YEAR}',\n",
    "                                          position=1,\n",
    "                                          leave=True):\n",
    "            try:\n",
    "                # Retrieve then data for the movie id\n",
    "                temp = get_movie_with_rating(movie_id)  \n",
    "                # Append/extend results to existing file using a pre-made function\n",
    "                write_json(temp,JSON_FILE)\n",
    "                # Short 20 ms sleep to prevent overwhelming server\n",
    "                time.sleep(0.02)\n",
    "\n",
    "            except Exception as e:\n",
    "                errors.append([movie_id, e])\n",
    "\n",
    "\n",
    "\n",
    "        final_year_df = pd.read_json(JSON_FILE)\n",
    "        final_year_df.to_csv(f\"{FOLDER}final_tmdb_data_{YEAR}.csv.gz\", compression=\"gzip\", index=False)"
   ]
  },
  {
   "cell_type": "code",
   "execution_count": 13,
   "id": "cf3516c5",
   "metadata": {},
   "outputs": [
    {
     "name": "stdout",
     "output_type": "stream",
     "text": [
      "- Total errors: 0\n"
     ]
    }
   ],
   "source": [
    "print(f\"- Total errors: {len(errors)}\")"
   ]
  },
  {
   "cell_type": "markdown",
   "id": "678fe5d8",
   "metadata": {},
   "source": [
    "# EDA"
   ]
  },
  {
   "cell_type": "code",
   "execution_count": 14,
   "id": "0b4ab4b1",
   "metadata": {},
   "outputs": [],
   "source": [
    "year_2000 = pd.read_csv(\"Data/final_tmdb_data_2000.csv.gz\")\n",
    "year_2001 = pd.read_csv(\"Data/final_tmdb_data_2001.csv.gz\")"
   ]
  },
  {
   "cell_type": "code",
   "execution_count": 18,
   "id": "6d074fbb",
   "metadata": {},
   "outputs": [
    {
     "name": "stdout",
     "output_type": "stream",
     "text": [
      "296339527.0    1\n",
      "186053725.0    1\n",
      "33788161.0     1\n",
      "18492362.0     1\n",
      "976475550.0    1\n",
      "450717150.0    1\n",
      "93375151.0     1\n",
      "207283925.0    1\n",
      "23619609.0     1\n",
      "53187659.0     1\n",
      "579707738.0    1\n",
      "487853320.0    1\n",
      "871368364.0    1\n",
      "68411275.0     1\n",
      "90449929.0     1\n",
      "264105545.0    1\n",
      "59217789.0     1\n",
      "Name: revenue, dtype: int64\n",
      "60000000.0     2\n",
      "75000000.0     1\n",
      "23000000.0     1\n",
      "92000000.0     1\n",
      "28000000.0     1\n",
      "16000000.0     1\n",
      "93000000.0     1\n",
      "115000000.0    1\n",
      "30000000.0     1\n",
      "120000000.0    1\n",
      "38000000.0     1\n",
      "85000000.0     1\n",
      "125000000.0    1\n",
      "1200000.0      1\n",
      "22000000.0     1\n",
      "10000000.0     1\n",
      "Name: budget, dtype: int64\n"
     ]
    }
   ],
   "source": [
    "df1 = pd.concat([year_2000, year_2001], axis= 0).dropna()\n",
    "df_r_b = (df1[\"revenue\"].copy() > 0) & (df1[\"budget\"].copy() > 0)\n",
    "df = df1[df_r_b]\n",
    "print(df[\"revenue\"].value_counts())\n",
    "print(df[\"budget\"].value_counts())"
   ]
  },
  {
   "cell_type": "code",
   "execution_count": 19,
   "id": "e4ebdbcd",
   "metadata": {},
   "outputs": [
    {
     "data": {
      "text/plain": [
       "280026281.11764705"
      ]
     },
     "execution_count": 19,
     "metadata": {},
     "output_type": "execute_result"
    }
   ],
   "source": []
  },
  {
   "cell_type": "code",
   "execution_count": 20,
   "id": "3705447d",
   "metadata": {},
   "outputs": [
    {
     "name": "stdout",
     "output_type": "stream",
     "text": [
      "<class 'pandas.core.frame.DataFrame'>\n",
      "Int64Index: 17 entries, 18 to 567\n",
      "Data columns (total 26 columns):\n",
      " #   Column                 Non-Null Count  Dtype  \n",
      "---  ------                 --------------  -----  \n",
      " 0   imdb_id                17 non-null     object \n",
      " 1   adult                  17 non-null     float64\n",
      " 2   backdrop_path          17 non-null     object \n",
      " 3   belongs_to_collection  17 non-null     object \n",
      " 4   budget                 17 non-null     float64\n",
      " 5   genres                 17 non-null     object \n",
      " 6   homepage               17 non-null     object \n",
      " 7   id                     17 non-null     float64\n",
      " 8   original_language      17 non-null     object \n",
      " 9   original_title         17 non-null     object \n",
      " 10  overview               17 non-null     object \n",
      " 11  popularity             17 non-null     float64\n",
      " 12  poster_path            17 non-null     object \n",
      " 13  production_companies   17 non-null     object \n",
      " 14  production_countries   17 non-null     object \n",
      " 15  release_date           17 non-null     object \n",
      " 16  revenue                17 non-null     float64\n",
      " 17  runtime                17 non-null     float64\n",
      " 18  spoken_languages       17 non-null     object \n",
      " 19  status                 17 non-null     object \n",
      " 20  tagline                17 non-null     object \n",
      " 21  title                  17 non-null     object \n",
      " 22  video                  17 non-null     float64\n",
      " 23  vote_average           17 non-null     float64\n",
      " 24  vote_count             17 non-null     float64\n",
      " 25  certification          17 non-null     object \n",
      "dtypes: float64(9), object(17)\n",
      "memory usage: 3.6+ KB\n"
     ]
    }
   ],
   "source": [
    "df.info()"
   ]
  },
  {
   "cell_type": "code",
   "execution_count": 22,
   "id": "8237ab62",
   "metadata": {},
   "outputs": [
    {
     "name": "stderr",
     "output_type": "stream",
     "text": [
      "C:\\Users\\caill\\AppData\\Local\\Temp\\ipykernel_27624\\1465397166.py:3: FutureWarning: \n",
      "\n",
      "The `ci` parameter is deprecated. Use `errorbar=('ci', 68)` for the same effect.\n",
      "\n",
      "  ax = sns.barplot(data=df, x='revenue', y='title', ci = 68)\n"
     ]
    },
    {
     "data": {
      "image/png": "[encoded data removed]",
      "text/plain": [
       "<Figure size 640x480 with 1 Axes>"
      ]
     },
     "metadata": {},
     "output_type": "display_data"
    }
   ],
   "source": [
    "import seaborn as sns\n",
    "# How many movies had at least some valid financial information\n",
    "ax = sns.barplot(data=df, x='revenue', y='title', ci = 68)"
   ]
  },
  {
   "cell_type": "code",
   "execution_count": 23,
   "id": "3d02cb7d",
   "metadata": {},
   "outputs": [
    {
     "data": {
      "text/plain": [
       "PG-13    7\n",
       "R        4\n",
       "PG       4\n",
       "G        2\n",
       "Name: certification, dtype: int64"
      ]
     },
     "execution_count": 23,
     "metadata": {},
     "output_type": "execute_result"
    }
   ],
   "source": [
    "df[\"certification\"].value_counts()"
   ]
  },
  {
   "cell_type": "code",
   "execution_count": 24,
   "id": "99e2b045",
   "metadata": {
    "scrolled": true
   },
   "outputs": [
    {
     "data": {
      "image/png": "[encoded data removed]",
      "text/plain": [
       "<Figure size 640x480 with 1 Axes>"
      ]
     },
     "metadata": {},
     "output_type": "display_data"
    }
   ],
   "source": [
    "# How many movies are there in each of the certification categories (G/PG/PG-13/R)?\n",
    "sns.countplot(data=df, x= \"certification\");\n"
   ]
  },
  {
   "cell_type": "code",
   "execution_count": 44,
   "id": "7661b4e4",
   "metadata": {},
   "outputs": [
    {
     "data": {
      "text/plain": [
       "certification\n",
       "G       324059506.50\n",
       "PG      435939436.50\n",
       "PG-13   314840578.43\n",
       "R        41171492.75\n",
       "Name: revenue, dtype: float64"
      ]
     },
     "execution_count": 44,
     "metadata": {},
     "output_type": "execute_result"
    }
   ],
   "source": [
    "# What is the average revenue per certification category?\n",
    "pd.set_option('display.float_format', lambda x: '%.2f' % x)\n",
    "avg_rev = df.groupby(\"certification\")[\"revenue\"].mean()\n",
    "avg_rev.head()"
   ]
  },
  {
   "cell_type": "code",
   "execution_count": 45,
   "id": "809945cc",
   "metadata": {},
   "outputs": [
    {
     "data": {
      "image/png": "[encoded data removed]",
      "text/plain": [
       "<Figure size 640x480 with 1 Axes>"
      ]
     },
     "metadata": {},
     "output_type": "display_data"
    }
   ],
   "source": [
    "sns.barplot(data=df, x = \"certification\", y= \"revenue\" );"
   ]
  },
  {
   "cell_type": "code",
   "execution_count": 36,
   "id": "767566a8",
   "metadata": {},
   "outputs": [
    {
     "data": {
      "text/plain": [
       "certification\n",
       "G        65500000.0\n",
       "PG       91250000.0\n",
       "PG-13    63000000.0\n",
       "R        14050000.0\n",
       "Name: budget, dtype: float64"
      ]
     },
     "execution_count": 36,
     "metadata": {},
     "output_type": "execute_result"
    }
   ],
   "source": [
    "# What is the average budget per certification category?\n",
    "avg_bud = df.groupby(\"certification\")[\"budget\"].mean()\n",
    "avg_bud"
   ]
  },
  {
   "cell_type": "code",
   "execution_count": 46,
   "id": "30e32212",
   "metadata": {
    "scrolled": true
   },
   "outputs": [
    {
     "data": {
      "image/png": "[encoded data removed]",
      "text/plain": [
       "<Figure size 640x480 with 1 Axes>"
      ]
     },
     "metadata": {},
     "output_type": "display_data"
    }
   ],
   "source": [
    "sns.barplot(data=df, x = \"certification\", y= \"budget\" );"
   ]
  }
 ],
 "metadata": {
  "kernelspec": {
   "display_name": "Python (dojo-env)",
   "language": "python",
   "name": "dojo-env"
  },
  "language_info": {
   "codemirror_mode": {
    "name": "ipython",
    "version": 3
   },
   "file_extension": ".py",
   "mimetype": "text/x-python",
   "name": "python",
   "nbconvert_exporter": "python",
   "pygments_lexer": "ipython3",
   "version": "3.9.15"
  },
  "toc": {
   "base_numbering": 1,
   "nav_menu": {},
   "number_sections": false,
   "sideBar": true,
   "skip_h1_title": false,
   "title_cell": "Table of Contents",
   "title_sidebar": "Contents",
   "toc_cell": false,
   "toc_position": {},
   "toc_section_display": true,
   "toc_window_display": false
  }
 },
 "nbformat": 4,
 "nbformat_minor": 5
}
